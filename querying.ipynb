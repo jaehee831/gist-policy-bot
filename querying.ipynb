{
 "cells": [
  {
   "cell_type": "code",
   "execution_count": 19,
   "metadata": {},
   "outputs": [],
   "source": [
    "import os\n",
    "import numpy as np\n",
    "import faiss\n",
    "import openai\n",
    "from langdetect import detect\n",
    "from dotenv import load_dotenv\n",
    "\n",
    "load_dotenv()\n",
    "# 환경 변수에서 API 키 가져오기\n",
    "api_key = os.getenv('OPENAI_API_KEY')\n",
    "\n",
    "if api_key is None:\n",
    "    raise ValueError(\"OPENAI_API_KEY 환경 변수가 설정되지 않았습니다.\")\n",
    "openai.api_key = api_key\n",
    "\n",
    "# 현재 디렉토리 설정\n",
    "current_dir = os.getcwd()\n",
    "vector_db_dir = os.path.join(current_dir, 'VectorDB')\n",
    "\n",
    "# FAISS 인덱스 로드\n",
    "index = faiss.read_index(os.path.join(vector_db_dir, 'vector_db.index'))\n",
    "index_dimension = index.d  # 인덱스의 차원 확인\n",
    "\n",
    "# 파일 경로 로드\n",
    "with open(os.path.join(vector_db_dir, 'file_paths.txt'), 'r', encoding='utf-8') as f:\n",
    "    file_paths = [line.strip() for line in f]\n",
    "\n",
    "# 모든 문서 로드\n",
    "documents = []\n",
    "for path in file_paths:\n",
    "    with open(path, 'r', encoding='utf-8') as file:\n",
    "        documents.append(file.read())\n",
    "\n",
    "# 임베딩 생성 함수\n",
    "def get_embedding(text):\n",
    "    response = openai.Embedding.create(\n",
    "        input=text,\n",
    "        engine=\"text-embedding-ada-002\"\n",
    "    )\n",
    "    return np.array(response['data'][0]['embedding'], dtype=np.float32)\n",
    "\n",
    "def search(query, top_k=5):\n",
    "    # 쿼리 벡터화\n",
    "    query_embedding = get_embedding(query).reshape(1, -1)\n",
    "    \n",
    "    # 차원 일치 여부 확인\n",
    "    if query_embedding.shape[1] != index_dimension:\n",
    "        raise ValueError(f\"Query embedding dimension {query_embedding.shape[1]} does not match index dimension {index_dimension}\")\n",
    "\n",
    "    # FAISS 인덱스에서 유사한 문서 검색\n",
    "    D, I = index.search(query_embedding, top_k)\n",
    "    \n",
    "    results = [(file_paths[i], documents[i]) for i in I[0]]\n",
    "    return results\n",
    "\n",
    "def generate_answer(query, top_k=1):\n",
    "    # 관련 문서 검색\n",
    "    relevant_docs = search(query, top_k)\n",
    "    \n",
    "    # 관련 문서들을 하나의 문자열로 결합\n",
    "    context = \"\\n\\n\".join(doc for _, doc in relevant_docs)\n",
    "    references = \"\\n\".join(path for path, _ in relevant_docs)\n",
    "    \n",
    "    language = detect(query)\n",
    "\n",
    "    if language == 'ko':\n",
    "        system_message = \"You are a helpful assistant that answers in Korean\"\n",
    "    else:\n",
    "        system_message = \"You are a helpful assistant that answers in English\"\n",
    "\n",
    "    # OpenAI GPT-3.5-turbo 모델을 사용하여 답변 생성\n",
    "    response = openai.ChatCompletion.create(\n",
    "        model=\"gpt-4\",\n",
    "        messages=[\n",
    "            {\"role\": \"system\", \"content\": system_message},\n",
    "            {\"role\": \"user\", \"content\": f\"Here are some documents:\\n\\n{context}\\n\\nQuestion: {query}\\nAnswer:\"}\n",
    "        ],\n",
    "        max_tokens=1000  # max_tokens 값을 증가시켜 잘리는 문제 방지\n",
    "    )\n",
    "    \n",
    "    answer = response.choices[0].message['content'].strip()\n",
    "    return answer, references"
   ]
  },
  {
   "cell_type": "code",
   "execution_count": 20,
   "metadata": {},
   "outputs": [
    {
     "name": "stdout",
     "output_type": "stream",
     "text": [
      "답변: 문서에는 육아휴직에 대한 정보가 없습니다. 일반적으로는 자녀가 만 8세 이하일 때까지 육아휴직을 사용할 수 있습니다만, 정확한 정보는 해당 근로계약서나 법률에 따라 다를 수 있습니다.\n",
      "참조한 문서 경로:\n",
      " c:\\Users\\wonhy\\OneDrive\\Desktop\\gist-policy-bot\\Data\\FR00601 취업규칙_시간외야간및휴일근무.txt\n"
     ]
    }
   ],
   "source": [
    "# 예시 질문\n",
    "query = \"육아휴직은 애가 몇살까지 쓸 수 있어?\"\n",
    "answer, references = generate_answer(query)\n",
    "\n",
    "print(\"답변:\", answer)\n",
    "print(\"참조한 문서 경로:\\n\", references)"
   ]
  },
  {
   "cell_type": "code",
   "execution_count": null,
   "metadata": {},
   "outputs": [],
   "source": []
  }
 ],
 "metadata": {
  "kernelspec": {
   "display_name": "Python 3",
   "language": "python",
   "name": "python3"
  },
  "language_info": {
   "codemirror_mode": {
    "name": "ipython",
    "version": 3
   },
   "file_extension": ".py",
   "mimetype": "text/x-python",
   "name": "python",
   "nbconvert_exporter": "python",
   "pygments_lexer": "ipython3",
   "version": "3.11.5"
  }
 },
 "nbformat": 4,
 "nbformat_minor": 2
}
