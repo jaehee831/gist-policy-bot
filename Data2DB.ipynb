{
 "cells": [
  {
   "cell_type": "code",
   "execution_count": 1,
   "metadata": {},
   "outputs": [
    {
     "name": "stdout",
     "output_type": "stream",
     "text": [
      "모든 txt 파일을 벡터화하여 VectorDB 폴더에 저장했습니다.\n",
      "검색 결과 파일 경로: ['c:\\\\Users\\\\wonhy\\\\OneDrive\\\\Desktop\\\\gist-policy-bot\\\\Data\\\\FR00602 여비규칙_국내출장비.txt', 'c:\\\\Users\\\\wonhy\\\\OneDrive\\\\Desktop\\\\gist-policy-bot\\\\Data\\\\FR00602 여비규칙_1.txt', 'c:\\\\Users\\\\wonhy\\\\OneDrive\\\\Desktop\\\\gist-policy-bot\\\\Data\\\\FR00602 여비규칙_국외출장비.txt', 'c:\\\\Users\\\\wonhy\\\\OneDrive\\\\Desktop\\\\gist-policy-bot\\\\Data\\\\FR00602 여비규칙_보칙.txt', 'c:\\\\Users\\\\wonhy\\\\OneDrive\\\\Desktop\\\\gist-policy-bot\\\\Data\\\\FR00602 여비규칙_보칙.txt']\n"
     ]
    }
   ],
   "source": [
    "import os\n",
    "import time\n",
    "import numpy as np\n",
    "import faiss\n",
    "import openai\n",
    "\n",
    "# OpenAI API 키 설정\n",
    "openai.api_key = 'sk-proj-kWMWHOar0E4DdGmIHd9VT3BlbkFJ1sODyQZo64LaHKl2HYrL'\n",
    "\n",
    "# 현재 디렉토리 설정\n",
    "current_dir = os.getcwd()\n",
    "data_dir = os.path.join(current_dir, 'Data')\n",
    "vector_db_dir = os.path.join(current_dir, 'VectorDB')\n",
    "\n",
    "# VectorDB 디렉토리가 없으면 생성\n",
    "if not os.path.exists(vector_db_dir):\n",
    "    os.makedirs(vector_db_dir)\n",
    "\n",
    "# 모든 txt 파일 읽어오기\n",
    "txt_files = [f for f in os.listdir(data_dir) if f.endswith('.txt')]\n",
    "\n",
    "# 모든 텍스트 파일의 내용을 리스트로 저장\n",
    "documents = []\n",
    "file_paths = []\n",
    "\n",
    "for txt_file in txt_files:\n",
    "    txt_file_path = os.path.join(data_dir, txt_file)\n",
    "    \n",
    "    with open(txt_file_path, 'r', encoding='utf-8') as file:\n",
    "        text = file.read()\n",
    "        documents.append(text)\n",
    "        file_paths.append(txt_file_path)\n",
    "\n",
    "# 임베딩 생성 함수\n",
    "def get_embedding(text):\n",
    "    response = openai.Embedding.create(\n",
    "        input=text,\n",
    "        engine=\"text-embedding-ada-002\"\n",
    "    )\n",
    "    return np.array(response['data'][0]['embedding'], dtype=np.float32)\n",
    "\n",
    "# 모든 문서에 대해 임베딩 생성\n",
    "embeddings = []\n",
    "for i, doc in enumerate(documents):\n",
    "    embeddings.append(get_embedding(doc))\n",
    "    if (i + 1) % 3 == 0:\n",
    "        time.sleep(60)  # 3회 요청 후 1분 대기\n",
    "\n",
    "embeddings = np.array(embeddings)\n",
    "\n",
    "# FAISS 인덱스 생성\n",
    "index = faiss.IndexFlatL2(embeddings.shape[1])\n",
    "index.add(embeddings)\n",
    "\n",
    "# 인덱스를 저장\n",
    "faiss.write_index(index, os.path.join(vector_db_dir, 'vector_db.index'))\n",
    "\n",
    "# 파일 경로 저장\n",
    "with open(os.path.join(vector_db_dir, 'file_paths.txt'), 'w', encoding='utf-8') as f:\n",
    "    for path in file_paths:\n",
    "        f.write(path + '\\n')\n",
    "\n",
    "print(\"모든 txt 파일을 벡터화하여 VectorDB 폴더에 저장했습니다.\")\n",
    "\n",
    "# RAG 검색 함수\n",
    "def search(query, top_k=5):\n",
    "    # 쿼리 벡터화\n",
    "    query_embedding = get_embedding(query).reshape(1, -1)\n",
    "    \n",
    "    # FAISS 인덱스에서 유사한 문서 검색\n",
    "    D, I = index.search(query_embedding, top_k)\n",
    "    \n",
    "    # 검색된 문서 경로 가져오기\n",
    "    with open(os.path.join(vector_db_dir, 'file_paths.txt'), 'r', encoding='utf-8') as f:\n",
    "        file_paths = f.readlines()\n",
    "    \n",
    "    results = [file_paths[i].strip() for i in I[0]]\n",
    "    return results\n",
    "\n",
    "# 예시 질문\n",
    "query = \"예시 질문을 입력하세요\"\n",
    "result_files = search(query)\n",
    "\n",
    "print(\"검색 결과 파일 경로:\", result_files)\n"
   ]
  },
  {
   "cell_type": "code",
   "execution_count": 3,
   "metadata": {},
   "outputs": [
    {
     "name": "stdout",
     "output_type": "stream",
     "text": [
      "검색 결과: ['c:\\\\Users\\\\wonhy\\\\OneDrive\\\\Desktop\\\\gist-policy-bot\\\\Data\\\\FR00602 여비규칙_국내출장비.txt', 'c:\\\\Users\\\\wonhy\\\\OneDrive\\\\Desktop\\\\gist-policy-bot\\\\Data\\\\FR00602 여비규칙_보칙.txt', 'c:\\\\Users\\\\wonhy\\\\OneDrive\\\\Desktop\\\\gist-policy-bot\\\\Data\\\\FR00602 여비규칙_국외출장비.txt', 'c:\\\\Users\\\\wonhy\\\\OneDrive\\\\Desktop\\\\gist-policy-bot\\\\Data\\\\FR00602 여비규칙_1.txt', 'c:\\\\Users\\\\wonhy\\\\OneDrive\\\\Desktop\\\\gist-policy-bot\\\\Data\\\\FR00602 여비규칙_보칙.txt']\n"
     ]
    }
   ],
   "source": [
    "# 예시 검색\n",
    "query = \"예시 질문\"\n",
    "results = search(query)\n",
    "print(\"검색 결과:\", results)"
   ]
  },
  {
   "cell_type": "code",
   "execution_count": null,
   "metadata": {},
   "outputs": [],
   "source": []
  }
 ],
 "metadata": {
  "kernelspec": {
   "display_name": "Python 3",
   "language": "python",
   "name": "python3"
  },
  "language_info": {
   "codemirror_mode": {
    "name": "ipython",
    "version": 3
   },
   "file_extension": ".py",
   "mimetype": "text/x-python",
   "name": "python",
   "nbconvert_exporter": "python",
   "pygments_lexer": "ipython3",
   "version": "3.11.5"
  }
 },
 "nbformat": 4,
 "nbformat_minor": 2
}
